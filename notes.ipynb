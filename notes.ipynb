{
 "cells": [
  {
   "cell_type": "markdown",
   "metadata": {},
   "source": [
    "### General Notes\n",
    "\n",
    "interactive node request: `interact -q gpu -g 1 -t 02:00:00 -m 16G`\n",
    "module and conda setup: `source inter_setup.sh`"
   ]
  },
  {
   "cell_type": "markdown",
   "metadata": {},
   "source": [
    "#### Todo\n",
    "\n",
    "Figure out what is happening in the training file a little better\n",
    "\n",
    "Get past the memory issue to run more than a single image\n",
    "    Train on that set of images\n",
    "    Figure out life... \n",
    "\n",
    "Can we cache things to make it better??"
   ]
  }
 ],
 "metadata": {
  "language_info": {
   "name": "python"
  }
 },
 "nbformat": 4,
 "nbformat_minor": 2
}
